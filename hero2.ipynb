{
 "cells": [
  {
   "cell_type": "markdown",
   "metadata": {},
   "source": [
    "### Heroes Of Pymoli Data Analysis\n",
    "* Of the 1163 active players, the vast majority are male (84%). There also exists, a smaller, but notable proportion of female players (14%).\n",
    "\n",
    "* Our peak age demographic falls between 20-24 (44.8%) with secondary groups falling between 15-19 (18.60%) and 25-29 (13.4%).  \n",
    "-----"
   ]
  },
  {
   "cell_type": "markdown",
   "metadata": {},
   "source": [
    "### Note\n",
    "* Instructions have been included for each segment. You do not have to follow them exactly, but they are included to help you think through the steps."
   ]
  },
  {
   "cell_type": "code",
   "execution_count": 1,
   "metadata": {},
   "outputs": [],
   "source": [
    "# Dependencies and Setup\n",
    "import pandas as pd\n",
    "import numpy as np\n",
    "\n",
    "# File to Load (Remember to Change These)\n",
    "#file_to_load = \"..Resources/purchase_data.csv\"\n",
    "#file_to_load = \"C:/Users/lumk4/Desktop/gitlab/Data2018/Hw4/Resources/purchase_data.csv\"\n",
    "file_to_load = \"Resources/purchase_data.csv\"\n",
    "\n",
    "# Read Purchasing File and store into Pandas data frame\n",
    "purchase_data = pd.read_csv(file_to_load)"
   ]
  },
  {
   "cell_type": "code",
   "execution_count": 2,
   "metadata": {},
   "outputs": [
    {
     "data": {
      "text/plain": [
       "Index(['Purchase ID', 'SN', 'Age', 'Gender', 'Item ID', 'Item Name', 'Price'], dtype='object')"
      ]
     },
     "execution_count": 2,
     "metadata": {},
     "output_type": "execute_result"
    }
   ],
   "source": [
    "#display columns of purchase data\n",
    "purchase_data.columns"
   ]
  },
  {
   "cell_type": "code",
   "execution_count": 3,
   "metadata": {},
   "outputs": [],
   "source": [
    "#create dataframe\n",
    "purch_data_df=pd.DataFrame(purchase_data)\n",
    "#purch_data_df.head()"
   ]
  },
  {
   "cell_type": "markdown",
   "metadata": {},
   "source": [
    "## Player Count"
   ]
  },
  {
   "cell_type": "markdown",
   "metadata": {},
   "source": [
    "* Display the total number of players\n"
   ]
  },
  {
   "cell_type": "code",
   "execution_count": 4,
   "metadata": {},
   "outputs": [],
   "source": [
    "#player_cnt = purch_data_df(\"SN\").count\n",
    "#print (player_cnt)\n",
    "#purch_data_df.count()gives 780 rows\n"
   ]
  },
  {
   "cell_type": "code",
   "execution_count": 5,
   "metadata": {},
   "outputs": [
    {
     "name": "stdout",
     "output_type": "stream",
     "text": [
      "Total Players:\n",
      "----------------\n",
      "       576\n"
     ]
    }
   ],
   "source": [
    "#THIS IS BAD  purch_data_df.nunique(\"SN\")\n",
    "#this is GOOOD!\n",
    "#purch_data_df.nunique()\n",
    "#try 3 is BETTER\n",
    "uni_usrs = len(purch_data_df[\"SN\"].unique())\n",
    "print('Total Players:')\n",
    "print('----------------')\n",
    "print('      ',uni_usrs)\n",
    "\n",
    "#2THIS IS BAD uniq_usr_df = purch_data_df.groupby(['SN']).size()\n",
    "#2THIS IS BAD print uniq_usr_df()"
   ]
  },
  {
   "cell_type": "markdown",
   "metadata": {},
   "source": [
    "## Purchasing Analysis (Total)"
   ]
  },
  {
   "cell_type": "markdown",
   "metadata": {},
   "source": [
    "* Run basic calculations to obtain number of unique items, average price, etc.\n",
    "\n",
    "\n",
    "* Create a summary data frame to hold the results\n",
    "\n",
    "\n",
    "* Optional: give the displayed data cleaner formatting\n",
    "\n",
    "\n",
    "* Display the summary data frame\n"
   ]
  },
  {
   "cell_type": "code",
   "execution_count": 6,
   "metadata": {
    "scrolled": true
   },
   "outputs": [
    {
     "data": {
      "text/html": [
       "<div>\n",
       "<style scoped>\n",
       "    .dataframe tbody tr th:only-of-type {\n",
       "        vertical-align: middle;\n",
       "    }\n",
       "\n",
       "    .dataframe tbody tr th {\n",
       "        vertical-align: top;\n",
       "    }\n",
       "\n",
       "    .dataframe thead th {\n",
       "        text-align: right;\n",
       "    }\n",
       "</style>\n",
       "<table border=\"1\" class=\"dataframe\">\n",
       "  <thead>\n",
       "    <tr style=\"text-align: right;\">\n",
       "      <th></th>\n",
       "      <th>Number of Unique Items</th>\n",
       "      <th>Average Price</th>\n",
       "      <th>Number of Purchases</th>\n",
       "      <th>Total Revenue</th>\n",
       "    </tr>\n",
       "  </thead>\n",
       "  <tbody>\n",
       "    <tr>\n",
       "      <th>0</th>\n",
       "      <td>183</td>\n",
       "      <td>$3.05</td>\n",
       "      <td>780</td>\n",
       "      <td>$2379.77</td>\n",
       "    </tr>\n",
       "  </tbody>\n",
       "</table>\n",
       "</div>"
      ],
      "text/plain": [
       "   Number of Unique Items Average Price  Number of Purchases Total Revenue\n",
       "0                     183         $3.05                  780      $2379.77"
      ]
     },
     "execution_count": 6,
     "metadata": {},
     "output_type": "execute_result"
    }
   ],
   "source": [
    "#header row\n",
    "# \n",
    "#unique items in dataframe       \n",
    "uni_items = purch_data_df['Item ID'].nunique()\n",
    "#print(uni_items)\n",
    "\n",
    "#avg price\n",
    "avg_purch = purch_data_df[\"Price\"].mean()\n",
    "#print('${:.2f}'.format(avg_purch))\n",
    "\n",
    "#calc total number of purchases\n",
    "num_purch = len(purch_data_df)\n",
    "#print(num_purch)\n",
    "\n",
    "#/purch_data_df.count()\n",
    "#total revunue\n",
    "tot_revenue= sum(purch_data_df[\"Price\"])\n",
    "#print('${:.2f}'.format(tot_revenue))\n",
    "\n",
    "#print (\"Number of Unique Items     Average Price     Total # of Purchases     Total Revenue\")\n",
    "# print('--------------------------------------------------------------------------------------')\n",
    "#print (\"            \",uni_items , \"           \", '${:.2f}'.format(avg_purch), \"               \",num_purch, \"                \",'${:.2f}'.format(tot_revenue))\n",
    "\n",
    "#creating dataframe to put all the values\n",
    "all_analys = pd.DataFrame({\n",
    "    \"Number of Unique Items\": [uni_items],\n",
    "    \"Average Price\" :         [\"${:.2f}\".format(avg_purch)],\n",
    "    \"Number of Purchases\":    [num_purch],\n",
    "    \"Total Revenue\":          [\"${:.2f}\".format(tot_revenue)]\n",
    "    \n",
    "})\n",
    "\n",
    "all_analys"
   ]
  },
  {
   "cell_type": "markdown",
   "metadata": {},
   "source": [
    "## Gender Demographics"
   ]
  },
  {
   "cell_type": "markdown",
   "metadata": {},
   "source": [
    "* Percentage and Count of Male Players\n",
    "\n",
    "\n",
    "* Percentage and Count of Female Players\n",
    "\n",
    "\n",
    "* Percentage and Count of Other / Non-Disclosed\n",
    "\n",
    "\n"
   ]
  },
  {
   "cell_type": "code",
   "execution_count": 7,
   "metadata": {},
   "outputs": [
    {
     "data": {
      "text/html": [
       "<div>\n",
       "<style scoped>\n",
       "    .dataframe tbody tr th:only-of-type {\n",
       "        vertical-align: middle;\n",
       "    }\n",
       "\n",
       "    .dataframe tbody tr th {\n",
       "        vertical-align: top;\n",
       "    }\n",
       "\n",
       "    .dataframe thead th {\n",
       "        text-align: right;\n",
       "    }\n",
       "</style>\n",
       "<table border=\"1\" class=\"dataframe\">\n",
       "  <thead>\n",
       "    <tr style=\"text-align: right;\">\n",
       "      <th></th>\n",
       "      <th>Total Count</th>\n",
       "      <th>Percentage of Players</th>\n",
       "    </tr>\n",
       "  </thead>\n",
       "  <tbody>\n",
       "    <tr>\n",
       "      <th>Male</th>\n",
       "      <td>484</td>\n",
       "      <td>84.03</td>\n",
       "    </tr>\n",
       "    <tr>\n",
       "      <th>Female</th>\n",
       "      <td>81</td>\n",
       "      <td>14.06</td>\n",
       "    </tr>\n",
       "    <tr>\n",
       "      <th>Other / Non-Disclosed</th>\n",
       "      <td>11</td>\n",
       "      <td>1.91</td>\n",
       "    </tr>\n",
       "  </tbody>\n",
       "</table>\n",
       "</div>"
      ],
      "text/plain": [
       "                       Total Count Percentage of Players\n",
       "Male                           484                 84.03\n",
       "Female                          81                 14.06\n",
       "Other / Non-Disclosed           11                  1.91"
      ]
     },
     "execution_count": 7,
     "metadata": {},
     "output_type": "execute_result"
    }
   ],
   "source": [
    "# need df with Unique players\n",
    "uniq_df = purch_data_df[['SN', 'Gender', 'Age']]\n",
    "#remove\n",
    "remove_dups = uniq_df.drop_duplicates(subset=['SN'], keep='first')\n",
    "#remove_dups.head()\n",
    "\n",
    "#uni_male_df\n",
    "uni_male_df= remove_dups.loc[remove_dups[\"Gender\"]==\"Male\"]\n",
    "uni_male_cnt=uni_male_df['SN'].size\n",
    "#print (uni_male_cnt)\n",
    "\n",
    "#uni_female_df\n",
    "uni_female_df= remove_dups.loc[remove_dups[\"Gender\"]==\"Female\"]\n",
    "uni_female_cnt=uni_female_df['SN'].size\n",
    "#print (uni_female_cnt)\n",
    "\n",
    "#uni_non_df\n",
    "uni_non_df= remove_dups.loc[remove_dups[\"Gender\"]==\"Other / Non-Disclosed\"]\n",
    "uni_non_cnt=uni_non_df['SN'].size\n",
    "\n",
    "#create DF for gender data\n",
    "gen_df = pd.DataFrame({\n",
    "    \"Total Count\" : [len(uni_male_df),len(uni_female_df),len(uni_non_df)],\n",
    "    \"Percentage of Players\":['{:.2f}'.format((uni_male_cnt/uni_usrs)*100),'{:.2f}'.format((uni_female_cnt/uni_usrs)*100),'{:.2f}'.format((uni_non_cnt/uni_usrs)*100) ]})\n",
    "#reindex\n",
    "gen_df =pd.DataFrame.from_records(gen_df, index =[\"Male\", \"Female\", \"Other / Non-Disclosed\"])\n",
    "#display\n",
    "gen_df\n"
   ]
  },
  {
   "cell_type": "markdown",
   "metadata": {},
   "source": [
    "\n",
    "## Purchasing Analysis (Gender)"
   ]
  },
  {
   "cell_type": "markdown",
   "metadata": {},
   "source": [
    "* Run basic calculations to obtain purchase count, avg. purchase price, avg. purchase total per person etc. by gender\n",
    "\n",
    "\n",
    "\n",
    "\n",
    "* Create a summary data frame to hold the results\n",
    "\n",
    "\n",
    "* Optional: give the displayed data cleaner formatting\n",
    "\n",
    "\n",
    "* Display the summary data frame"
   ]
  },
  {
   "cell_type": "code",
   "execution_count": 8,
   "metadata": {},
   "outputs": [
    {
     "name": "stderr",
     "output_type": "stream",
     "text": [
      "C:\\Users\\lumk4\\anaconda\\Anaconda3\\lib\\site-packages\\ipykernel_launcher.py:9: SettingWithCopyWarning: \n",
      "A value is trying to be set on a copy of a slice from a DataFrame\n",
      "\n",
      "See the caveats in the documentation: http://pandas.pydata.org/pandas-docs/stable/indexing.html#indexing-view-versus-copy\n",
      "  if __name__ == '__main__':\n"
     ]
    },
    {
     "data": {
      "text/html": [
       "<div>\n",
       "<style scoped>\n",
       "    .dataframe tbody tr th:only-of-type {\n",
       "        vertical-align: middle;\n",
       "    }\n",
       "\n",
       "    .dataframe tbody tr th {\n",
       "        vertical-align: top;\n",
       "    }\n",
       "\n",
       "    .dataframe thead th {\n",
       "        text-align: right;\n",
       "    }\n",
       "</style>\n",
       "<table border=\"1\" class=\"dataframe\">\n",
       "  <thead>\n",
       "    <tr style=\"text-align: right;\">\n",
       "      <th></th>\n",
       "      <th>Total Count</th>\n",
       "      <th>Percentage of Players</th>\n",
       "    </tr>\n",
       "  </thead>\n",
       "  <tbody>\n",
       "    <tr>\n",
       "      <th>Male</th>\n",
       "      <td>484</td>\n",
       "      <td>84.0278</td>\n",
       "    </tr>\n",
       "    <tr>\n",
       "      <th>Female</th>\n",
       "      <td>81</td>\n",
       "      <td>14.0625</td>\n",
       "    </tr>\n",
       "    <tr>\n",
       "      <th>Other / Non-Disclosed</th>\n",
       "      <td>11</td>\n",
       "      <td>(1.9097222222222223, 2)</td>\n",
       "    </tr>\n",
       "  </tbody>\n",
       "</table>\n",
       "</div>"
      ],
      "text/plain": [
       "                       Total Count    Percentage of Players\n",
       "Male                           484                  84.0278\n",
       "Female                          81                  14.0625\n",
       "Other / Non-Disclosed           11  (1.9097222222222223, 2)"
      ]
     },
     "execution_count": 8,
     "metadata": {},
     "output_type": "execute_result"
    }
   ],
   "source": [
    "#calculate total male, female and others\n",
    "#get_uniq = purchase_data.drop_duplicates(subset=\"SN\",inplace=True)\n",
    "#get SN and Gender and store in another data frame\n",
    "\n",
    "# copy earlier purchase data with SN, gender and age to another data frame\n",
    "uniq = purchase_data[[\"SN\", \"Gender\", \"Age\"]]\n",
    "\n",
    "#get unique rows, clean up get_uniq, remove duplicate SN\n",
    "uniq.drop_duplicates(subset = \"SN\", inplace = True)\n",
    "\n",
    "#find total records  Gender = Male\n",
    "men_df = uniq.loc[uniq[\"Gender\"] == \"Male\", :]\n",
    "\n",
    "#calc male percent (unique users from above)\n",
    "tot_men_prcnt = (len(men_df)/ uni_usrs) * 100\n",
    "#--------------------------------------------------\n",
    "#calculate female\n",
    "\n",
    "#find total records Gender = Female\n",
    "female_df = uniq.loc[uniq[\"Gender\"] == \"Female\", :]\n",
    "\n",
    "#calculate female percent (uni-usrs above)\n",
    "tot_female_prcnt = (len(female_df)/ uni_usrs) * 100\n",
    "\n",
    "#--------------------------------------------------\n",
    "#calculate others = Other / Non-Disclosed\n",
    "\n",
    "#find total records where Gender = Other\n",
    "others = uniq.loc[uniq[\"Gender\"] == \"Other / Non-Disclosed\", :]\n",
    "\n",
    "#calculate other percent (uni_usrs was calculated before)\n",
    "tot_other_prcnt =  ((len(others)/ uni_usrs) * 100 ,2)\n",
    "\n",
    "#--------------------------------------------------------\n",
    "\n",
    "#creating dataframe to put all the new values:\n",
    "gender_df = pd.DataFrame({\n",
    "   # \"Gender\": [\"Male\", \"Female\", \"Other / Non-Disclosed\"],\n",
    "   # index =[\"Male\", \"Female\", \"Other / Non-Disclosed\"],\n",
    "    \"Total Count\" : [len(men_df), len(female_df), len(others)],\n",
    "    \"Percentage of Players\":    [tot_men_prcnt, tot_female_prcnt, tot_other_prcnt]\n",
    "})\n",
    "\n",
    "#change the index name to male, female, others\n",
    "gender_df = pd.DataFrame.from_records(gender_df, index =[\"Male\", \"Female\", \"Other / Non-Disclosed\"])\n",
    "\n",
    "gender_df\n"
   ]
  },
  {
   "cell_type": "markdown",
   "metadata": {},
   "source": [
    "## Age Demographics"
   ]
  },
  {
   "cell_type": "markdown",
   "metadata": {},
   "source": [
    "* Establish bins for ages\n",
    "\n",
    "\n",
    "* Categorize the existing players using the age bins. Hint: use pd.cut()\n",
    "\n",
    "\n",
    "* Calculate the numbers and percentages by age group\n",
    "\n",
    "\n",
    "* Create a summary data frame to hold the results\n",
    "\n",
    "\n",
    "* Optional: round the percentage column to two decimal points\n",
    "\n",
    "\n",
    "* Display Age Demographics Table\n"
   ]
  },
  {
   "cell_type": "code",
   "execution_count": 14,
   "metadata": {},
   "outputs": [
    {
     "data": {
      "text/html": [
       "<div>\n",
       "<style scoped>\n",
       "    .dataframe tbody tr th:only-of-type {\n",
       "        vertical-align: middle;\n",
       "    }\n",
       "\n",
       "    .dataframe tbody tr th {\n",
       "        vertical-align: top;\n",
       "    }\n",
       "\n",
       "    .dataframe thead th {\n",
       "        text-align: right;\n",
       "    }\n",
       "</style>\n",
       "<table border=\"1\" class=\"dataframe\">\n",
       "  <thead>\n",
       "    <tr style=\"text-align: right;\">\n",
       "      <th></th>\n",
       "      <th>Total Count</th>\n",
       "      <th>Percentage of Players</th>\n",
       "    </tr>\n",
       "    <tr>\n",
       "      <th>age group</th>\n",
       "      <th></th>\n",
       "      <th></th>\n",
       "    </tr>\n",
       "  </thead>\n",
       "  <tbody>\n",
       "    <tr>\n",
       "      <th>&lt;10</th>\n",
       "      <td>17</td>\n",
       "      <td>2.95</td>\n",
       "    </tr>\n",
       "    <tr>\n",
       "      <th>10-14</th>\n",
       "      <td>22</td>\n",
       "      <td>3.82</td>\n",
       "    </tr>\n",
       "    <tr>\n",
       "      <th>15-19</th>\n",
       "      <td>107</td>\n",
       "      <td>18.58</td>\n",
       "    </tr>\n",
       "    <tr>\n",
       "      <th>20-24</th>\n",
       "      <td>258</td>\n",
       "      <td>44.79</td>\n",
       "    </tr>\n",
       "    <tr>\n",
       "      <th>25-29</th>\n",
       "      <td>77</td>\n",
       "      <td>13.37</td>\n",
       "    </tr>\n",
       "  </tbody>\n",
       "</table>\n",
       "</div>"
      ],
      "text/plain": [
       "           Total Count  Percentage of Players\n",
       "age group                                    \n",
       "<10                 17                   2.95\n",
       "10-14               22                   3.82\n",
       "15-19              107                  18.58\n",
       "20-24              258                  44.79\n",
       "25-29               77                  13.37"
      ]
     },
     "execution_count": 14,
     "metadata": {},
     "output_type": "execute_result"
    }
   ],
   "source": [
    "#bins\n",
    "age_bins = [0, 9, 14, 19, 24, 29, 34, 39, 118]\n",
    "#label\n",
    "grp_labels = [\"<10\", \"10-14\", \"15-19\",\"20-24\",\"25-29\",\"30-34\",\"35-39\",\"40+\"]\n",
    "                   \n",
    "# Slice the data and place it into bins for all \"values\n",
    "purch_data_df['age group'] = pd.cut(purch_data_df[\"Age\"], age_bins, labels=grp_labels)\n",
    "\n",
    "#remove_dups.head()\n",
    "remove_dups = purch_data_df.drop_duplicates(subset=['SN'], keep='first')\n",
    "\n",
    "#purch_data_df.head(20)\n",
    "\n",
    "age_grp = (remove_dups.groupby(\"age group\").count())\n",
    "df_cnt = age_grp.iloc[:,0]\n",
    "df_per = (df_cnt.divide(df_cnt.sum()))*100\n",
    "#print (df_per.datatype())\n",
    "#new_df = df_cnt.join(df_per, on=‘age group’, how=‘outer’)\n",
    "# tab =pd.merge(df_cnt,df_per, on 'Age', how= 'outer', indicator=True)\n",
    "# merge(df1, df2, on='col1', how='outer', indicator='indicator_column')\n",
    "#rekey\n",
    "#gen_df = pd.DataFrame.from_records(gen_df, index =[\"<10\", \"10-14\", \"15-19\", \"20-24\", \"25-29\", \"30-34\", \"35-39\", \"40+\"])\n",
    "#display\n",
    "\n",
    "# frames= [df_cnt,df_per]\n",
    "# new_df = pd.concat(frames)\n",
    "\n",
    "new_df = pd.DataFrame({'Total Count': df_cnt, 'Percentage of Players':df_per})\n",
    "new_df.sort_index()\n",
    "new_df = new_df.round(2)\n",
    "new_df\n",
    "new_df.head()"
   ]
  },
  {
   "cell_type": "markdown",
   "metadata": {},
   "source": [
    "## Purchasing Analysis (Age)"
   ]
  },
  {
   "cell_type": "markdown",
   "metadata": {},
   "source": [
    "* Bin the purchase_data data frame by age\n",
    "\n",
    "\n",
    "* Run basic calculations to obtain purchase count, avg. purchase price, avg. purchase total per person etc. in the table below\n",
    "\n",
    "\n",
    "* Create a summary data frame to hold the results\n",
    "\n",
    "\n",
    "* Optional: give the displayed data cleaner formatting\n",
    "\n",
    "\n",
    "* Display the summary data frame"
   ]
  },
  {
   "cell_type": "code",
   "execution_count": 15,
   "metadata": {},
   "outputs": [
    {
     "data": {
      "text/html": [
       "<style  type=\"text/css\" >\n",
       "</style>  \n",
       "<table id=\"T_9d9e1f76_0171_11e9_9cda_fc3fdb8dd25f\" > \n",
       "<thead>    <tr> \n",
       "        <th class=\"blank level0\" ></th> \n",
       "        <th class=\"col_heading level0 col0\" >Purchase Count</th> \n",
       "        <th class=\"col_heading level0 col1\" >Percentage of Purchases</th> \n",
       "        <th class=\"col_heading level0 col2\" >Average Purchase Price</th> \n",
       "        <th class=\"col_heading level0 col3\" >Total Purchase Value</th> \n",
       "        <th class=\"col_heading level0 col4\" >Average Total Purchase per Person</th> \n",
       "    </tr>    <tr> \n",
       "        <th class=\"index_name level0\" >age group</th> \n",
       "        <th class=\"blank\" ></th> \n",
       "        <th class=\"blank\" ></th> \n",
       "        <th class=\"blank\" ></th> \n",
       "        <th class=\"blank\" ></th> \n",
       "        <th class=\"blank\" ></th> \n",
       "    </tr></thead> \n",
       "<tbody>    <tr> \n",
       "        <th id=\"T_9d9e1f76_0171_11e9_9cda_fc3fdb8dd25flevel0_row0\" class=\"row_heading level0 row0\" ><10</th> \n",
       "        <td id=\"T_9d9e1f76_0171_11e9_9cda_fc3fdb8dd25frow0_col0\" class=\"data row0 col0\" >23</td> \n",
       "        <td id=\"T_9d9e1f76_0171_11e9_9cda_fc3fdb8dd25frow0_col1\" class=\"data row0 col1\" >2.95%</td> \n",
       "        <td id=\"T_9d9e1f76_0171_11e9_9cda_fc3fdb8dd25frow0_col2\" class=\"data row0 col2\" >$3.35</td> \n",
       "        <td id=\"T_9d9e1f76_0171_11e9_9cda_fc3fdb8dd25frow0_col3\" class=\"data row0 col3\" >$77.13</td> \n",
       "        <td id=\"T_9d9e1f76_0171_11e9_9cda_fc3fdb8dd25frow0_col4\" class=\"data row0 col4\" >$4.54</td> \n",
       "    </tr>    <tr> \n",
       "        <th id=\"T_9d9e1f76_0171_11e9_9cda_fc3fdb8dd25flevel0_row1\" class=\"row_heading level0 row1\" >10-14</th> \n",
       "        <td id=\"T_9d9e1f76_0171_11e9_9cda_fc3fdb8dd25frow1_col0\" class=\"data row1 col0\" >28</td> \n",
       "        <td id=\"T_9d9e1f76_0171_11e9_9cda_fc3fdb8dd25frow1_col1\" class=\"data row1 col1\" >3.59%</td> \n",
       "        <td id=\"T_9d9e1f76_0171_11e9_9cda_fc3fdb8dd25frow1_col2\" class=\"data row1 col2\" >$2.96</td> \n",
       "        <td id=\"T_9d9e1f76_0171_11e9_9cda_fc3fdb8dd25frow1_col3\" class=\"data row1 col3\" >$82.78</td> \n",
       "        <td id=\"T_9d9e1f76_0171_11e9_9cda_fc3fdb8dd25frow1_col4\" class=\"data row1 col4\" >$3.76</td> \n",
       "    </tr>    <tr> \n",
       "        <th id=\"T_9d9e1f76_0171_11e9_9cda_fc3fdb8dd25flevel0_row2\" class=\"row_heading level0 row2\" >15-19</th> \n",
       "        <td id=\"T_9d9e1f76_0171_11e9_9cda_fc3fdb8dd25frow2_col0\" class=\"data row2 col0\" >136</td> \n",
       "        <td id=\"T_9d9e1f76_0171_11e9_9cda_fc3fdb8dd25frow2_col1\" class=\"data row2 col1\" >17.44%</td> \n",
       "        <td id=\"T_9d9e1f76_0171_11e9_9cda_fc3fdb8dd25frow2_col2\" class=\"data row2 col2\" >$3.04</td> \n",
       "        <td id=\"T_9d9e1f76_0171_11e9_9cda_fc3fdb8dd25frow2_col3\" class=\"data row2 col3\" >$412.89</td> \n",
       "        <td id=\"T_9d9e1f76_0171_11e9_9cda_fc3fdb8dd25frow2_col4\" class=\"data row2 col4\" >$3.86</td> \n",
       "    </tr>    <tr> \n",
       "        <th id=\"T_9d9e1f76_0171_11e9_9cda_fc3fdb8dd25flevel0_row3\" class=\"row_heading level0 row3\" >20-24</th> \n",
       "        <td id=\"T_9d9e1f76_0171_11e9_9cda_fc3fdb8dd25frow3_col0\" class=\"data row3 col0\" >365</td> \n",
       "        <td id=\"T_9d9e1f76_0171_11e9_9cda_fc3fdb8dd25frow3_col1\" class=\"data row3 col1\" >46.79%</td> \n",
       "        <td id=\"T_9d9e1f76_0171_11e9_9cda_fc3fdb8dd25frow3_col2\" class=\"data row3 col2\" >$3.05</td> \n",
       "        <td id=\"T_9d9e1f76_0171_11e9_9cda_fc3fdb8dd25frow3_col3\" class=\"data row3 col3\" >$1114.06</td> \n",
       "        <td id=\"T_9d9e1f76_0171_11e9_9cda_fc3fdb8dd25frow3_col4\" class=\"data row3 col4\" >$4.32</td> \n",
       "    </tr>    <tr> \n",
       "        <th id=\"T_9d9e1f76_0171_11e9_9cda_fc3fdb8dd25flevel0_row4\" class=\"row_heading level0 row4\" >25-29</th> \n",
       "        <td id=\"T_9d9e1f76_0171_11e9_9cda_fc3fdb8dd25frow4_col0\" class=\"data row4 col0\" >101</td> \n",
       "        <td id=\"T_9d9e1f76_0171_11e9_9cda_fc3fdb8dd25frow4_col1\" class=\"data row4 col1\" >12.95%</td> \n",
       "        <td id=\"T_9d9e1f76_0171_11e9_9cda_fc3fdb8dd25frow4_col2\" class=\"data row4 col2\" >$2.90</td> \n",
       "        <td id=\"T_9d9e1f76_0171_11e9_9cda_fc3fdb8dd25frow4_col3\" class=\"data row4 col3\" >$293.00</td> \n",
       "        <td id=\"T_9d9e1f76_0171_11e9_9cda_fc3fdb8dd25frow4_col4\" class=\"data row4 col4\" >$3.81</td> \n",
       "    </tr>    <tr> \n",
       "        <th id=\"T_9d9e1f76_0171_11e9_9cda_fc3fdb8dd25flevel0_row5\" class=\"row_heading level0 row5\" >30-34</th> \n",
       "        <td id=\"T_9d9e1f76_0171_11e9_9cda_fc3fdb8dd25frow5_col0\" class=\"data row5 col0\" >73</td> \n",
       "        <td id=\"T_9d9e1f76_0171_11e9_9cda_fc3fdb8dd25frow5_col1\" class=\"data row5 col1\" >9.36%</td> \n",
       "        <td id=\"T_9d9e1f76_0171_11e9_9cda_fc3fdb8dd25frow5_col2\" class=\"data row5 col2\" >$2.93</td> \n",
       "        <td id=\"T_9d9e1f76_0171_11e9_9cda_fc3fdb8dd25frow5_col3\" class=\"data row5 col3\" >$214.00</td> \n",
       "        <td id=\"T_9d9e1f76_0171_11e9_9cda_fc3fdb8dd25frow5_col4\" class=\"data row5 col4\" >$4.12</td> \n",
       "    </tr>    <tr> \n",
       "        <th id=\"T_9d9e1f76_0171_11e9_9cda_fc3fdb8dd25flevel0_row6\" class=\"row_heading level0 row6\" >35-39</th> \n",
       "        <td id=\"T_9d9e1f76_0171_11e9_9cda_fc3fdb8dd25frow6_col0\" class=\"data row6 col0\" >41</td> \n",
       "        <td id=\"T_9d9e1f76_0171_11e9_9cda_fc3fdb8dd25frow6_col1\" class=\"data row6 col1\" >5.26%</td> \n",
       "        <td id=\"T_9d9e1f76_0171_11e9_9cda_fc3fdb8dd25frow6_col2\" class=\"data row6 col2\" >$3.60</td> \n",
       "        <td id=\"T_9d9e1f76_0171_11e9_9cda_fc3fdb8dd25frow6_col3\" class=\"data row6 col3\" >$147.67</td> \n",
       "        <td id=\"T_9d9e1f76_0171_11e9_9cda_fc3fdb8dd25frow6_col4\" class=\"data row6 col4\" >$4.76</td> \n",
       "    </tr>    <tr> \n",
       "        <th id=\"T_9d9e1f76_0171_11e9_9cda_fc3fdb8dd25flevel0_row7\" class=\"row_heading level0 row7\" >40+</th> \n",
       "        <td id=\"T_9d9e1f76_0171_11e9_9cda_fc3fdb8dd25frow7_col0\" class=\"data row7 col0\" >13</td> \n",
       "        <td id=\"T_9d9e1f76_0171_11e9_9cda_fc3fdb8dd25frow7_col1\" class=\"data row7 col1\" >1.67%</td> \n",
       "        <td id=\"T_9d9e1f76_0171_11e9_9cda_fc3fdb8dd25frow7_col2\" class=\"data row7 col2\" >$2.94</td> \n",
       "        <td id=\"T_9d9e1f76_0171_11e9_9cda_fc3fdb8dd25frow7_col3\" class=\"data row7 col3\" >$38.24</td> \n",
       "        <td id=\"T_9d9e1f76_0171_11e9_9cda_fc3fdb8dd25frow7_col4\" class=\"data row7 col4\" >$3.19</td> \n",
       "    </tr></tbody> \n",
       "</table> "
      ],
      "text/plain": [
       "<pandas.io.formats.style.Styler at 0x7b8bc88>"
      ]
     },
     "execution_count": 15,
     "metadata": {},
     "output_type": "execute_result"
    }
   ],
   "source": [
    "#purch_data_df from above\n",
    "#remove_dups from above\n",
    "# groups by subset of data summed over unique users \n",
    "uniq_users_df = purch_data_df.groupby(['SN','Age']).sum()\n",
    "    \n",
    "# get frenquency count over length of first column\n",
    "uni_usrs_cnt = uniq_users_df.groupby(['Age']).count().iloc[:,0]\n",
    "    \n",
    "# group and calculate price parameters relating to column chosen\n",
    "df_grp = purch_data_df.groupby(\"age group\")\n",
    "df_count = df_grp.count().iloc[:,0]\n",
    "df_percent = df_count.divide(df_count.sum())\n",
    "df_purchase_avg = df_grp.Price.mean()\n",
    "df_purchase_total = df_grp.Price.sum()\n",
    "df_perperson_avg = df_purchase_total / new_df['Total Count']\n",
    "#missing formatting above, use the new_df by the total colum \n",
    "    \n",
    "    \n",
    "# put data into DataFrame and format results\n",
    "df_summary = pd.DataFrame(data=[df_count, df_percent, df_purchase_avg, df_purchase_total, df_perperson_avg]).transpose()\n",
    "df_summary.columns = ['Purchase Count', 'Percentage of Purchases','Average Purchase Price', 'Total Purchase Value', 'Average Total Purchase per Person']\n",
    "df_summary.style.format({'Average Purchase Price':'${:.2f}', 'Percentage of Purchases':'{0:.2%}', 'Total Purchase Value':'${:.2f}', 'Average Total Purchase per Person':'${:.2f}'})\n"
   ]
  },
  {
   "cell_type": "markdown",
   "metadata": {},
   "source": [
    "## Top Spenders"
   ]
  },
  {
   "cell_type": "markdown",
   "metadata": {},
   "source": [
    "* Run basic calculations to obtain the results in the table below\n",
    "\n",
    "\n",
    "* Create a summary data frame to hold the results\n",
    "\n",
    "\n",
    "* Sort the total purchase value column in descending order\n",
    "\n",
    "\n",
    "* Optional: give the displayed data cleaner formatting\n",
    "\n",
    "\n",
    "* Display a preview of the summary data frame\n",
    "\n"
   ]
  },
  {
   "cell_type": "code",
   "execution_count": 11,
   "metadata": {},
   "outputs": [
    {
     "data": {
      "text/html": [
       "<style  type=\"text/css\" >\n",
       "</style>  \n",
       "<table id=\"T_9699ce36_016f_11e9_a678_fc3fdb8dd25f\" > \n",
       "<thead>    <tr> \n",
       "        <th class=\"blank level0\" ></th> \n",
       "        <th class=\"col_heading level0 col0\" >Number of Items Purchased</th> \n",
       "        <th class=\"col_heading level0 col1\" >Average Spent per Item</th> \n",
       "        <th class=\"col_heading level0 col2\" >Total Spent</th> \n",
       "    </tr>    <tr> \n",
       "        <th class=\"index_name level0\" >SN</th> \n",
       "        <th class=\"blank\" ></th> \n",
       "        <th class=\"blank\" ></th> \n",
       "        <th class=\"blank\" ></th> \n",
       "    </tr></thead> \n",
       "<tbody>    <tr> \n",
       "        <th id=\"T_9699ce36_016f_11e9_a678_fc3fdb8dd25flevel0_row0\" class=\"row_heading level0 row0\" >Lisosia93</th> \n",
       "        <td id=\"T_9699ce36_016f_11e9_a678_fc3fdb8dd25frow0_col0\" class=\"data row0 col0\" >5</td> \n",
       "        <td id=\"T_9699ce36_016f_11e9_a678_fc3fdb8dd25frow0_col1\" class=\"data row0 col1\" >$3.79</td> \n",
       "        <td id=\"T_9699ce36_016f_11e9_a678_fc3fdb8dd25frow0_col2\" class=\"data row0 col2\" >$18.96</td> \n",
       "    </tr>    <tr> \n",
       "        <th id=\"T_9699ce36_016f_11e9_a678_fc3fdb8dd25flevel0_row1\" class=\"row_heading level0 row1\" >Idastidru52</th> \n",
       "        <td id=\"T_9699ce36_016f_11e9_a678_fc3fdb8dd25frow1_col0\" class=\"data row1 col0\" >4</td> \n",
       "        <td id=\"T_9699ce36_016f_11e9_a678_fc3fdb8dd25frow1_col1\" class=\"data row1 col1\" >$3.86</td> \n",
       "        <td id=\"T_9699ce36_016f_11e9_a678_fc3fdb8dd25frow1_col2\" class=\"data row1 col2\" >$15.45</td> \n",
       "    </tr>    <tr> \n",
       "        <th id=\"T_9699ce36_016f_11e9_a678_fc3fdb8dd25flevel0_row2\" class=\"row_heading level0 row2\" >Chamjask73</th> \n",
       "        <td id=\"T_9699ce36_016f_11e9_a678_fc3fdb8dd25frow2_col0\" class=\"data row2 col0\" >3</td> \n",
       "        <td id=\"T_9699ce36_016f_11e9_a678_fc3fdb8dd25frow2_col1\" class=\"data row2 col1\" >$4.61</td> \n",
       "        <td id=\"T_9699ce36_016f_11e9_a678_fc3fdb8dd25frow2_col2\" class=\"data row2 col2\" >$13.83</td> \n",
       "    </tr>    <tr> \n",
       "        <th id=\"T_9699ce36_016f_11e9_a678_fc3fdb8dd25flevel0_row3\" class=\"row_heading level0 row3\" >Iral74</th> \n",
       "        <td id=\"T_9699ce36_016f_11e9_a678_fc3fdb8dd25frow3_col0\" class=\"data row3 col0\" >4</td> \n",
       "        <td id=\"T_9699ce36_016f_11e9_a678_fc3fdb8dd25frow3_col1\" class=\"data row3 col1\" >$3.40</td> \n",
       "        <td id=\"T_9699ce36_016f_11e9_a678_fc3fdb8dd25frow3_col2\" class=\"data row3 col2\" >$13.62</td> \n",
       "    </tr>    <tr> \n",
       "        <th id=\"T_9699ce36_016f_11e9_a678_fc3fdb8dd25flevel0_row4\" class=\"row_heading level0 row4\" >Iskadarya95</th> \n",
       "        <td id=\"T_9699ce36_016f_11e9_a678_fc3fdb8dd25frow4_col0\" class=\"data row4 col0\" >3</td> \n",
       "        <td id=\"T_9699ce36_016f_11e9_a678_fc3fdb8dd25frow4_col1\" class=\"data row4 col1\" >$4.37</td> \n",
       "        <td id=\"T_9699ce36_016f_11e9_a678_fc3fdb8dd25frow4_col2\" class=\"data row4 col2\" >$13.10</td> \n",
       "    </tr></tbody> \n",
       "</table> "
      ],
      "text/plain": [
       "<pandas.io.formats.style.Styler at 0x9455f28>"
      ]
     },
     "execution_count": 11,
     "metadata": {},
     "output_type": "execute_result"
    }
   ],
   "source": [
    "# make each top column individually, then concatinate into a DataFrame with proper formatting\n",
    "top5_spender = purchase_data[['SN', 'Price']].groupby('SN').sum()\n",
    "top5_spender.columns = ['Total Spent']\n",
    "top5_avg = purchase_data[['SN', 'Price']].groupby('SN').mean()\n",
    "top5_avg.columns = ['Average Spent per Item']\n",
    "top5_cnt = purchase_data[['SN', 'Price']].groupby('SN').count()\n",
    "top5_cnt.columns = ['Number of Items Purchased']\n",
    "top5_spenders = pd.concat([top5_cnt, top5_avg, top5_spender], axis=1)\n",
    "\n",
    "# make final Styler for output, including formatting money. .head(5) selects \n",
    "# out the top 5 after sorting by total spent\n",
    "top5_output = top5_spenders.sort_values('Total Spent', ascending=False).head(5).style.format({'Total Spent':'${:.2f}', 'Average Spent per Item':'${:.2f}'})\n",
    "\n",
    "top5_output\n"
   ]
  },
  {
   "cell_type": "markdown",
   "metadata": {},
   "source": [
    "## Most Popular Items"
   ]
  },
  {
   "cell_type": "markdown",
   "metadata": {},
   "source": [
    "* Retrieve the Item ID, Item Name, and Item Price columns\n",
    "\n",
    "\n",
    "* Group by Item ID and Item Name. Perform calculations to obtain purchase count, item price, and total purchase value\n",
    "\n",
    "\n",
    "* Create a summary data frame to hold the results\n",
    "\n",
    "\n",
    "* Sort the purchase count column in descending order\n",
    "\n",
    "\n",
    "* Optional: give the displayed data cleaner formatting\n",
    "\n",
    "\n",
    "* Display a preview of the summary data frame\n",
    "\n"
   ]
  },
  {
   "cell_type": "code",
   "execution_count": 17,
   "metadata": {},
   "outputs": [
    {
     "data": {
      "text/html": [
       "<div>\n",
       "<style scoped>\n",
       "    .dataframe tbody tr th:only-of-type {\n",
       "        vertical-align: middle;\n",
       "    }\n",
       "\n",
       "    .dataframe tbody tr th {\n",
       "        vertical-align: top;\n",
       "    }\n",
       "\n",
       "    .dataframe thead th {\n",
       "        text-align: right;\n",
       "    }\n",
       "</style>\n",
       "<table border=\"1\" class=\"dataframe\">\n",
       "  <thead>\n",
       "    <tr style=\"text-align: right;\">\n",
       "      <th></th>\n",
       "      <th></th>\n",
       "      <th>Purchase Count</th>\n",
       "      <th>Price</th>\n",
       "      <th>Total Purchase Value</th>\n",
       "    </tr>\n",
       "    <tr>\n",
       "      <th>Item ID</th>\n",
       "      <th>Item Name</th>\n",
       "      <th></th>\n",
       "      <th></th>\n",
       "      <th></th>\n",
       "    </tr>\n",
       "  </thead>\n",
       "  <tbody>\n",
       "    <tr>\n",
       "      <th>178</th>\n",
       "      <th>Oathbreaker, Last Hope of the Breaking Storm</th>\n",
       "      <td>12</td>\n",
       "      <td>4.23</td>\n",
       "      <td>50.76</td>\n",
       "    </tr>\n",
       "    <tr>\n",
       "      <th>145</th>\n",
       "      <th>Fiery Glass Crusader</th>\n",
       "      <td>9</td>\n",
       "      <td>4.58</td>\n",
       "      <td>41.22</td>\n",
       "    </tr>\n",
       "    <tr>\n",
       "      <th>108</th>\n",
       "      <th>Extraction, Quickblade Of Trembling Hands</th>\n",
       "      <td>9</td>\n",
       "      <td>3.53</td>\n",
       "      <td>31.77</td>\n",
       "    </tr>\n",
       "    <tr>\n",
       "      <th>82</th>\n",
       "      <th>Nirvana</th>\n",
       "      <td>9</td>\n",
       "      <td>4.90</td>\n",
       "      <td>44.10</td>\n",
       "    </tr>\n",
       "    <tr>\n",
       "      <th>19</th>\n",
       "      <th>Pursuit, Cudgel of Necromancy</th>\n",
       "      <td>8</td>\n",
       "      <td>1.02</td>\n",
       "      <td>8.16</td>\n",
       "    </tr>\n",
       "  </tbody>\n",
       "</table>\n",
       "</div>"
      ],
      "text/plain": [
       "                                                      Purchase Count  Price  \\\n",
       "Item ID Item Name                                                             \n",
       "178     Oathbreaker, Last Hope of the Breaking Storm              12   4.23   \n",
       "145     Fiery Glass Crusader                                       9   4.58   \n",
       "108     Extraction, Quickblade Of Trembling Hands                  9   3.53   \n",
       "82      Nirvana                                                    9   4.90   \n",
       "19      Pursuit, Cudgel of Necromancy                              8   1.02   \n",
       "\n",
       "                                                      Total Purchase Value  \n",
       "Item ID Item Name                                                           \n",
       "178     Oathbreaker, Last Hope of the Breaking Storm                 50.76  \n",
       "145     Fiery Glass Crusader                                         41.22  \n",
       "108     Extraction, Quickblade Of Trembling Hands                    31.77  \n",
       "82      Nirvana                                                      44.10  \n",
       "19      Pursuit, Cudgel of Necromancy                                 8.16  "
      ]
     },
     "execution_count": 17,
     "metadata": {},
     "output_type": "execute_result"
    }
   ],
   "source": [
    "#df of items\n",
    "item_df = purchase_data[['Item ID', 'Item Name', 'Price']]\n",
    "#grp the items by ID then Name\n",
    "item_grp = item_df.groupby(['Item ID', 'Item Name'])\n",
    "\n",
    "purch_cnt = item_grp.count()\n",
    "purch_cnt.columns = ['Purchase Count']\n",
    "#drop dups\n",
    "item_price_no_dups = item_df.drop_duplicates(subset='Item ID').groupby(['Item ID', 'Item Name']).sum()\n",
    "total_purch_val = item_grp.sum()\n",
    "total_purch_val.columns = ['Total Purchase Value']\n",
    "\n",
    "total_purch_val\n",
    "item_summary = purch_cnt.join(item_price_no_dups)\n",
    "item_summary = item_summary.join(total_purch_val)\n",
    "item_summary.sort_values('Purchase Count', ascending=False).head(5)"
   ]
  },
  {
   "cell_type": "markdown",
   "metadata": {},
   "source": [
    "## Most Profitable Items"
   ]
  },
  {
   "cell_type": "markdown",
   "metadata": {},
   "source": [
    "* Sort the above table by total purchase value in descending order\n",
    "\n",
    "\n",
    "* Optional: give the displayed data cleaner formatting\n",
    "\n",
    "\n",
    "* Display a preview of the data frame\n",
    "\n"
   ]
  },
  {
   "cell_type": "code",
   "execution_count": 19,
   "metadata": {
    "scrolled": true
   },
   "outputs": [
    {
     "data": {
      "text/html": [
       "<div>\n",
       "<style scoped>\n",
       "    .dataframe tbody tr th:only-of-type {\n",
       "        vertical-align: middle;\n",
       "    }\n",
       "\n",
       "    .dataframe tbody tr th {\n",
       "        vertical-align: top;\n",
       "    }\n",
       "\n",
       "    .dataframe thead th {\n",
       "        text-align: right;\n",
       "    }\n",
       "</style>\n",
       "<table border=\"1\" class=\"dataframe\">\n",
       "  <thead>\n",
       "    <tr style=\"text-align: right;\">\n",
       "      <th></th>\n",
       "      <th></th>\n",
       "      <th>Purchase Count</th>\n",
       "      <th>Price</th>\n",
       "      <th>Total Purchase Value</th>\n",
       "    </tr>\n",
       "    <tr>\n",
       "      <th>Item ID</th>\n",
       "      <th>Item Name</th>\n",
       "      <th></th>\n",
       "      <th></th>\n",
       "      <th></th>\n",
       "    </tr>\n",
       "  </thead>\n",
       "  <tbody>\n",
       "    <tr>\n",
       "      <th>178</th>\n",
       "      <th>Oathbreaker, Last Hope of the Breaking Storm</th>\n",
       "      <td>12</td>\n",
       "      <td>4.23</td>\n",
       "      <td>50.76</td>\n",
       "    </tr>\n",
       "    <tr>\n",
       "      <th>82</th>\n",
       "      <th>Nirvana</th>\n",
       "      <td>9</td>\n",
       "      <td>4.90</td>\n",
       "      <td>44.10</td>\n",
       "    </tr>\n",
       "    <tr>\n",
       "      <th>145</th>\n",
       "      <th>Fiery Glass Crusader</th>\n",
       "      <td>9</td>\n",
       "      <td>4.58</td>\n",
       "      <td>41.22</td>\n",
       "    </tr>\n",
       "    <tr>\n",
       "      <th>92</th>\n",
       "      <th>Final Critic</th>\n",
       "      <td>8</td>\n",
       "      <td>4.88</td>\n",
       "      <td>39.04</td>\n",
       "    </tr>\n",
       "    <tr>\n",
       "      <th>103</th>\n",
       "      <th>Singed Scalpel</th>\n",
       "      <td>8</td>\n",
       "      <td>4.35</td>\n",
       "      <td>34.80</td>\n",
       "    </tr>\n",
       "  </tbody>\n",
       "</table>\n",
       "</div>"
      ],
      "text/plain": [
       "                                                      Purchase Count  Price  \\\n",
       "Item ID Item Name                                                             \n",
       "178     Oathbreaker, Last Hope of the Breaking Storm              12   4.23   \n",
       "82      Nirvana                                                    9   4.90   \n",
       "145     Fiery Glass Crusader                                       9   4.58   \n",
       "92      Final Critic                                               8   4.88   \n",
       "103     Singed Scalpel                                             8   4.35   \n",
       "\n",
       "                                                      Total Purchase Value  \n",
       "Item ID Item Name                                                           \n",
       "178     Oathbreaker, Last Hope of the Breaking Storm                 50.76  \n",
       "82      Nirvana                                                      44.10  \n",
       "145     Fiery Glass Crusader                                         41.22  \n",
       "92      Final Critic                                                 39.04  \n",
       "103     Singed Scalpel                                               34.80  "
      ]
     },
     "execution_count": 19,
     "metadata": {},
     "output_type": "execute_result"
    }
   ],
   "source": [
    "dec_display = item_summary.sort_values('Total Purchase Value', ascending=False).head(100)\n",
    "dec_display.head()"
   ]
  },
  {
   "cell_type": "code",
   "execution_count": null,
   "metadata": {},
   "outputs": [],
   "source": []
  }
 ],
 "metadata": {
  "anaconda-cloud": {},
  "kernel_info": {
   "name": "python3"
  },
  "kernelspec": {
   "display_name": "Python 3",
   "language": "python",
   "name": "python3"
  },
  "language_info": {
   "codemirror_mode": {
    "name": "ipython",
    "version": 3
   },
   "file_extension": ".py",
   "mimetype": "text/x-python",
   "name": "python",
   "nbconvert_exporter": "python",
   "pygments_lexer": "ipython3",
   "version": "3.7.0"
  },
  "nteract": {
   "version": "0.2.0"
  }
 },
 "nbformat": 4,
 "nbformat_minor": 2
}
